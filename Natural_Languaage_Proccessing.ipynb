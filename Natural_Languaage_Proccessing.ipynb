{
 "cells": [
  {
   "cell_type": "markdown",
   "id": "8dd7a9b5-06d6-47cc-9f45-509b9135995c",
   "metadata": {},
   "source": [
    "# Loading the book"
   ]
  },
  {
   "cell_type": "code",
   "execution_count": null,
   "id": "3a9f4c0b-f76b-426d-baa2-0b814b8c31d5",
   "metadata": {},
   "outputs": [],
   "source": [
    "with open(\"miracle_in_the_andes.txt\", \"r\", encoding=\"utf-8\") as file:\n",
    "    book = file.read()"
   ]
  },
  {
   "cell_type": "markdown",
   "id": "42e7b704-d076-416c-8461-672e4bba9d5e",
   "metadata": {},
   "source": [
    "# The most used words(non-articles)"
   ]
  },
  {
   "cell_type": "code",
   "execution_count": null,
   "id": "a2f53973-5795-47a0-b03e-2defbdfac07f",
   "metadata": {},
   "outputs": [],
   "source": [
    "import re\n",
    "pattern = re.compile(\"[a-zA-Z]+\")\n",
    "findings = re.findall(pattern, book.lower())\n",
    "findings[:5]"
   ]
  },
  {
   "cell_type": "code",
   "execution_count": null,
   "id": "3a68f274-1569-45b0-9a62-da6811ffb1d0",
   "metadata": {},
   "outputs": [],
   "source": [
    "d ={}\n",
    "for word in findings:\n",
    "    if word in d.keys():\n",
    "        d[word] = d[word] + 1\n",
    "    else:\n",
    "        d[word] = 1"
   ]
  },
  {
   "cell_type": "code",
   "execution_count": null,
   "id": "3d655e20-ca3d-4a98-a65f-81752654030e",
   "metadata": {},
   "outputs": [],
   "source": [
    "d_list = [(value, key) for (key, value) in d.items()]\n",
    "d_list = sorted(d_list, reverse=True)\n",
    "d_list[:5]"
   ]
  },
  {
   "cell_type": "code",
   "execution_count": null,
   "id": "731b9213-c40a-422b-8bc3-e172e2f5a979",
   "metadata": {},
   "outputs": [],
   "source": [
    "!pip3.12 install nltk"
   ]
  },
  {
   "cell_type": "code",
   "execution_count": 9,
   "id": "d53038f8-4e0a-46a8-a8ea-34158929a369",
   "metadata": {
    "editable": true,
    "slideshow": {
     "slide_type": ""
    },
    "tags": []
   },
   "outputs": [
    {
     "name": "stderr",
     "output_type": "stream",
     "text": [
      "[nltk_data] Downloading package stopwords to\n",
      "[nltk_data]     C:\\Users\\Tiffany\\AppData\\Roaming\\nltk_data...\n",
      "[nltk_data]   Unzipping corpora\\stopwords.zip.\n"
     ]
    },
    {
     "data": {
      "text/plain": [
       "True"
      ]
     },
     "execution_count": 9,
     "metadata": {},
     "output_type": "execute_result"
    }
   ],
   "source": [
    "import nltk\n",
    "nltk.download('stopwords')"
   ]
  },
  {
   "cell_type": "code",
   "execution_count": 10,
   "id": "3f6a6a17-f77a-4605-aceb-da2ea27be86e",
   "metadata": {},
   "outputs": [],
   "source": [
    "english_stopwords = stopwords.words(\"english\")"
   ]
  },
  {
   "cell_type": "code",
   "execution_count": 12,
   "id": "b5247ed9-e312-406d-98f9-fbacaf4b7518",
   "metadata": {
    "editable": true,
    "slideshow": {
     "slide_type": ""
    },
    "tags": []
   },
   "outputs": [],
   "source": [
    "filtered_words = []\n",
    "for count, word in d_list:\n",
    "    if word not in english_stopwords:\n",
    "        filtered_words.append((word, count))"
   ]
  },
  {
   "cell_type": "code",
   "execution_count": 14,
   "id": "8c2b19b0-47ce-4107-b1b0-7ce4a2661e7d",
   "metadata": {},
   "outputs": [
    {
     "data": {
      "text/plain": [
       "[('would', 575),\n",
       " ('us', 519),\n",
       " ('said', 292),\n",
       " ('roberto', 284),\n",
       " ('could', 252),\n",
       " ('one', 249)]"
      ]
     },
     "execution_count": 14,
     "metadata": {},
     "output_type": "execute_result"
    }
   ],
   "source": [
    "filtered_words[:6]"
   ]
  },
  {
   "cell_type": "markdown",
   "id": "40ac0010-f11b-4f67-8626-2f833cf4db79",
   "metadata": {
    "editable": true,
    "slideshow": {
     "slide_type": ""
    },
    "tags": []
   },
   "source": [
    "# Sentiment Analysis: What is the most positive and the Most negative chapter?"
   ]
  },
  {
   "cell_type": "code",
   "execution_count": 46,
   "id": "c45517fe-fdba-4c8a-b69b-5bfa18d9a37b",
   "metadata": {},
   "outputs": [
    {
     "name": "stderr",
     "output_type": "stream",
     "text": [
      "[nltk_data] Error loading VADER_Sentiment_Lexicon: Package\n",
      "[nltk_data]     'VADER_Sentiment_Lexicon' not found in index\n"
     ]
    },
    {
     "data": {
      "text/plain": [
       "False"
      ]
     },
     "execution_count": 46,
     "metadata": {},
     "output_type": "execute_result"
    }
   ],
   "source": [
    "import nltk\n",
    "nltk.download(\"VADER_Sentiment_Lexicon\")"
   ]
  },
  {
   "cell_type": "code",
   "execution_count": 49,
   "id": "26377dee-930a-49e1-b58e-df58e797c9eb",
   "metadata": {},
   "outputs": [],
   "source": [
    "from nltk.sentiment.vader import SentimentIntensityAnalyzer"
   ]
  },
  {
   "cell_type": "code",
   "execution_count": 50,
   "id": "4b6fc284-8705-4ce8-8882-4a784424a534",
   "metadata": {},
   "outputs": [],
   "source": [
    "analyzer = SentimentIntensityAnalyzer()"
   ]
  },
  {
   "cell_type": "markdown",
   "id": "39f18138-f9f4-4720-81ae-fe946e972bc9",
   "metadata": {},
   "source": [
    "dir(analyzer)"
   ]
  },
  {
   "cell_type": "code",
   "execution_count": 54,
   "id": "fbb43c63-91e1-4ad4-b155-1efb98aca967",
   "metadata": {},
   "outputs": [],
   "source": [
    "scores = analyzer.polarity_scores(\"Hey, look how beautiful the trees are. I love them.\")"
   ]
  },
  {
   "cell_type": "code",
   "execution_count": 55,
   "id": "6be9d447-45a9-4b30-9e70-0944b9374b4e",
   "metadata": {},
   "outputs": [
    {
     "name": "stdout",
     "output_type": "stream",
     "text": [
      "it is a positive text\n"
     ]
    }
   ],
   "source": [
    "if scores[\"pos\"] > scores[\"neg\"]:\n",
    "    print(\"it is a positive text\")\n",
    "else:\n",
    "    print(\"It is a negative text\")"
   ]
  },
  {
   "cell_type": "code",
   "execution_count": 56,
   "id": "0506177f-ab4d-4c90-b90c-3ad58677e858",
   "metadata": {},
   "outputs": [
    {
     "data": {
      "text/plain": [
       "{'neg': 0.116, 'neu': 0.76, 'pos': 0.125, 'compound': 1.0}"
      ]
     },
     "execution_count": 56,
     "metadata": {},
     "output_type": "execute_result"
    }
   ],
   "source": [
    "analyzer.polarity_scores(book)"
   ]
  },
  {
   "cell_type": "markdown",
   "id": "4086dea1-3151-42d8-b1bf-3abe2ecbdc60",
   "metadata": {},
   "source": [
    "## Chapter sentiment analysis"
   ]
  },
  {
   "cell_type": "code",
   "execution_count": 57,
   "id": "4d67a39b-c63e-4284-974f-a9eb6fef9df2",
   "metadata": {},
   "outputs": [],
   "source": [
    "import re\n",
    "pattern = re.compile(\"Chapter [0-9]+\")\n",
    "chapters = re.split(pattern, book)\n",
    "chapters = chapters[1:]"
   ]
  },
  {
   "cell_type": "code",
   "execution_count": 61,
   "id": "9bd45ef1-bf34-4db5-85b1-b24d844352d7",
   "metadata": {},
   "outputs": [
    {
     "name": "stdout",
     "output_type": "stream",
     "text": [
      "it is a positive text\n",
      "it is a positive text\n",
      "It is a negative text\n",
      "It is a negative text\n",
      "it is a positive text\n",
      "It is a negative text\n",
      "It is a negative text\n",
      "It is a negative text\n",
      "It is a negative text\n",
      "it is a positive text\n"
     ]
    }
   ],
   "source": [
    "for chapter in chapters:\n",
    "    scores = analyzer.polarity_scores(chapter)\n",
    "    if scores[\"pos\"] > scores[\"neg\"]:\n",
    "        print(\"it is a positive text\")\n",
    "    else:\n",
    "        print(\"It is a negative text\")"
   ]
  },
  {
   "cell_type": "code",
   "execution_count": null,
   "id": "04d9d5e3-b073-4bb9-b75c-785ac00be91b",
   "metadata": {},
   "outputs": [],
   "source": []
  }
 ],
 "metadata": {
  "kernelspec": {
   "display_name": "Python 3 (ipykernel)",
   "language": "python",
   "name": "python3"
  },
  "language_info": {
   "codemirror_mode": {
    "name": "ipython",
    "version": 3
   },
   "file_extension": ".py",
   "mimetype": "text/x-python",
   "name": "python",
   "nbconvert_exporter": "python",
   "pygments_lexer": "ipython3",
   "version": "3.12.4"
  }
 },
 "nbformat": 4,
 "nbformat_minor": 5
}
